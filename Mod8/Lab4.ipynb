{
 "cells": [
  {
   "cell_type": "markdown",
   "id": "b16f5833-faa0-4516-a8cc-796e7142f462",
   "metadata": {},
   "source": [
    "# Data Science Academy\n",
    "\n",
    "## Capítulo 8 - Introdução à Programação Orientada a Objetos\n",
    "\n",
    "### Lab4 - Hangman com POO"
   ]
  },
  {
   "cell_type": "code",
   "execution_count": 57,
   "id": "c10ae2e2-6ba9-4ea0-af5e-aee25248f89e",
   "metadata": {},
   "outputs": [],
   "source": [
    "# Import\n",
    "import random\n",
    "from os import system, name\n",
    "\n",
    "# Board (tabuleiro)\n",
    "board = [\n",
    "    '''\n",
    "       ------\n",
    "       |    |\n",
    "       |\n",
    "       |\n",
    "       |\n",
    "       |\n",
    "    --------\n",
    "    ''',\n",
    "    '''\n",
    "       ------\n",
    "       |    |\n",
    "       |    O\n",
    "       |\n",
    "       |\n",
    "       |\n",
    "    --------\n",
    "    ''',\n",
    "    '''\n",
    "       ------\n",
    "       |    |\n",
    "       |    O\n",
    "       |    |\n",
    "       |\n",
    "       |\n",
    "    --------\n",
    "    ''',\n",
    "    '''\n",
    "       ------\n",
    "       |    |\n",
    "       |    O\n",
    "       |   /|\n",
    "       |\n",
    "       |\n",
    "    --------\n",
    "    ''',\n",
    "    '''\n",
    "       ------\n",
    "       |    |\n",
    "       |    O\n",
    "       |   /|\\\\\n",
    "       |\n",
    "       |\n",
    "    --------\n",
    "    ''',\n",
    "    '''\n",
    "       ------\n",
    "       |    |\n",
    "       |    O\n",
    "       |   /|\\\\\n",
    "       |   /\n",
    "       |\n",
    "    --------\n",
    "    ''',\n",
    "    '''\n",
    "       ------\n",
    "       |    |\n",
    "       |    O\n",
    "       |   /|\\\\\n",
    "       |   / \\\\\n",
    "       |\n",
    "    --------\n",
    "    '''\n",
    "]"
   ]
  },
  {
   "cell_type": "code",
   "execution_count": 70,
   "id": "ad0e9123-a7f8-4ef9-aa4a-cc73ab8bff79",
   "metadata": {},
   "outputs": [],
   "source": [
    "class Hangman: \n",
    "    \"\"\" Jogo da Forca \"\"\"\n",
    "\n",
    "    def __init__(self):\n",
    "        \"\"\" Método Construtor - Inicialização do Hangman. \"\"\"\n",
    "                \n",
    "        print(\"\\nBem-vindo(a) ao Hangman!\")\n",
    "        print(\"Digite hangman.play() para inicializarmos!\")\n",
    "        # Definindo o número de chances e erros (inicial).\n",
    "        self.chances = 6\n",
    "\n",
    "        # Lista de palavras do Hangman.\n",
    "        self.words = [\n",
    "                    \"atomo\", \"foton\", \"osmo\", \"celula\", \"vetor\", \"massa\", \"mol\", \"base\",\n",
    "                    \"ondas\", \"enzima\", \"forca\", \"torque\", \"fusao\", \"quimica\", \"neutron\", \"fisica\"\n",
    "        ]\n",
    "\n",
    "        # Inicializando a palavra secreta.\n",
    "        self.chosen_word = random.choice(self.words)\n",
    "        self.display_word = [\"_\" for _ in self.chosen_word]\n",
    "       \n",
    "        # Inicializando a lista de palavras certas e erradas.\n",
    "        self.correct_letters = []\n",
    "        self.wrong_letters = []\n",
    "\n",
    "    def clean_screen(self):\n",
    "        \"\"\" Limpa o terminal \"\"\"\n",
    "        # Windows\n",
    "        if name == 'nt':\n",
    "            _ = system('cls')\n",
    "\n",
    "        # Mac ou Linux\n",
    "        else:\n",
    "            _ = system('clear')\n",
    "        \n",
    "    \n",
    "    def guess_letter(self, letter):\n",
    "        \"\"\" Método para adivinhar a letra. \"\"\"\n",
    "        \n",
    "        # Verifica se a letra já foi escolhida anteriormente\n",
    "        if letter in self.correct_letters or letter in self.wrong_letters:\n",
    "            print(f\"A letra '{letter}' já foi escolhida!\")\n",
    "            return\n",
    "\n",
    "        # Verifica se a letra escolhida está na palavra secreta\n",
    "        if letter in self.chosen_word:\n",
    "            self.correct_letters.append(letter)\n",
    "            print(f\"Boa! A letra '{letter}' está na palavra secreta.\")\n",
    "\n",
    "            for i, char in enumerate(self.chosen_word):\n",
    "                if char == letter:\n",
    "                    self.display_word[i] = letter\n",
    "        \n",
    "        # Se não estiver adicionamos a letra na lista de letras incorretas\n",
    "        # E atualizamos as chances e os erros do usuário.\n",
    "        else:\n",
    "            self.wrong_letters.append(letter)\n",
    "            print(f\"A letra '{letter}' não está na palavra. Você perdeu uma chance.\")\n",
    "        \n",
    "        # exibe o hangman baseado no numero de erros\n",
    "        print(board[len(self.wrong_letters)])\n",
    "    \n",
    "    def game_over(self):\n",
    "        \"\"\" Método para verificar se o jogo terminou. \"\"\"\n",
    "        \n",
    "        if self.chances - len(self.wrong_letters) == 0:\n",
    "            return True\n",
    "        return False\n",
    "\n",
    "    def i_win(self):\n",
    "        \"\"\" Método para verificar se o jogador venceu. \"\"\"\n",
    "        \n",
    "        if \"_\" not in self.display_word:\n",
    "            return True\n",
    "        return False   \n",
    "\n",
    "    def show_status(self):\n",
    "        \"\"\" \n",
    "        Exibe o estado atual do jogo incluindo as letras erradas, tentativas restantes e mostra as letras adivinhadas.\n",
    "        \"\"\"\n",
    "        \n",
    "        print(f\"Letras erradas: {self.wrong_letters}\")\n",
    "        print(f\"Tentativas restantes: {self.chances - len(self.wrong_letters)}\")\n",
    "        print(\" \".join(self.display_word))\n",
    "        \n",
    "    \n",
    "    def play(self):\n",
    "        \"\"\" Méetodo que controla o fluxo do jogo. \"\"\"\n",
    "                \n",
    "        while self.chances > 0:\n",
    "            # limpa tela\n",
    "            self.clean_screen()\n",
    "\n",
    "            # Exibe o estado atual do jogo.\n",
    "            self.show_status()\n",
    "            \n",
    "            # Recebe uma letra do jogador.\n",
    "            letter = input(\"\\nDigite uma letra: \").lower()\n",
    "\n",
    "            # Verifica a letra escolhida\n",
    "            self.guess_letter(letter)\n",
    "            \n",
    "            # Verifica se o jogo finalizou.\n",
    "            if self.game_over():\n",
    "                print(\"Game Over! Você perdeu :(\")\n",
    "                print(\"A palavra secreta era: \" + self.chosen_word)\n",
    "                break\n",
    "\n",
    "            # Verifica se o usuário venceu.\n",
    "            elif self.i_win():\n",
    "                print(\"Você GANHOU!\")\n",
    "                print(\"A palavra secreta é: \" + self.chosen_word)\n",
    "                break\n",
    "              \n",
    "\n",
    "        "
   ]
  },
  {
   "cell_type": "code",
   "execution_count": 71,
   "id": "4d5db64a-291e-4bab-a24c-5caf61d1f5f3",
   "metadata": {},
   "outputs": [
    {
     "name": "stdout",
     "output_type": "stream",
     "text": [
      "\n",
      "Bem-vindo(a) ao Hangman!\n",
      "Digite hangman.play() para inicializarmos!\n"
     ]
    }
   ],
   "source": [
    "hangman = Hangman()"
   ]
  },
  {
   "cell_type": "code",
   "execution_count": 72,
   "id": "198f67c8-3c7e-4acd-ba9e-3e9f55c312c1",
   "metadata": {},
   "outputs": [
    {
     "name": "stdout",
     "output_type": "stream",
     "text": [
      "Letras erradas: []\n",
      "Tentativas restantes: 6\n",
      "_ _ _ _ _\n"
     ]
    },
    {
     "name": "stdin",
     "output_type": "stream",
     "text": [
      "\n",
      "Digite uma letra:  a\n"
     ]
    },
    {
     "name": "stdout",
     "output_type": "stream",
     "text": [
      "Boa! A letra 'a' está na palavra secreta.\n",
      "\n",
      "       ------\n",
      "       |    |\n",
      "       |\n",
      "       |\n",
      "       |\n",
      "       |\n",
      "    --------\n",
      "    \n",
      "Letras erradas: []\n",
      "Tentativas restantes: 6\n",
      "_ _ _ _ a\n"
     ]
    },
    {
     "name": "stdin",
     "output_type": "stream",
     "text": [
      "\n",
      "Digite uma letra:  b\n"
     ]
    },
    {
     "name": "stdout",
     "output_type": "stream",
     "text": [
      "A letra 'b' não está na palavra. Você perdeu uma chance.\n",
      "\n",
      "       ------\n",
      "       |    |\n",
      "       |    O\n",
      "       |\n",
      "       |\n",
      "       |\n",
      "    --------\n",
      "    \n",
      "Letras erradas: ['b']\n",
      "Tentativas restantes: 5\n",
      "_ _ _ _ a\n"
     ]
    },
    {
     "name": "stdin",
     "output_type": "stream",
     "text": [
      "\n",
      "Digite uma letra:  c\n"
     ]
    },
    {
     "name": "stdout",
     "output_type": "stream",
     "text": [
      "Boa! A letra 'c' está na palavra secreta.\n",
      "\n",
      "       ------\n",
      "       |    |\n",
      "       |    O\n",
      "       |\n",
      "       |\n",
      "       |\n",
      "    --------\n",
      "    \n",
      "Letras erradas: ['b']\n",
      "Tentativas restantes: 5\n",
      "_ _ _ c a\n"
     ]
    },
    {
     "name": "stdin",
     "output_type": "stream",
     "text": [
      "\n",
      "Digite uma letra:  e\n"
     ]
    },
    {
     "name": "stdout",
     "output_type": "stream",
     "text": [
      "A letra 'e' não está na palavra. Você perdeu uma chance.\n",
      "\n",
      "       ------\n",
      "       |    |\n",
      "       |    O\n",
      "       |    |\n",
      "       |\n",
      "       |\n",
      "    --------\n",
      "    \n",
      "Letras erradas: ['b', 'e']\n",
      "Tentativas restantes: 4\n",
      "_ _ _ c a\n"
     ]
    },
    {
     "name": "stdin",
     "output_type": "stream",
     "text": [
      "\n",
      "Digite uma letra:  u\n"
     ]
    },
    {
     "name": "stdout",
     "output_type": "stream",
     "text": [
      "A letra 'u' não está na palavra. Você perdeu uma chance.\n",
      "\n",
      "       ------\n",
      "       |    |\n",
      "       |    O\n",
      "       |   /|\n",
      "       |\n",
      "       |\n",
      "    --------\n",
      "    \n",
      "Letras erradas: ['b', 'e', 'u']\n",
      "Tentativas restantes: 3\n",
      "_ _ _ c a\n"
     ]
    },
    {
     "name": "stdin",
     "output_type": "stream",
     "text": [
      "\n",
      "Digite uma letra:  i\n"
     ]
    },
    {
     "name": "stdout",
     "output_type": "stream",
     "text": [
      "A letra 'i' não está na palavra. Você perdeu uma chance.\n",
      "\n",
      "       ------\n",
      "       |    |\n",
      "       |    O\n",
      "       |   /|\\\n",
      "       |\n",
      "       |\n",
      "    --------\n",
      "    \n",
      "Letras erradas: ['b', 'e', 'u', 'i']\n",
      "Tentativas restantes: 2\n",
      "_ _ _ c a\n"
     ]
    },
    {
     "name": "stdin",
     "output_type": "stream",
     "text": [
      "\n",
      "Digite uma letra:  o\n"
     ]
    },
    {
     "name": "stdout",
     "output_type": "stream",
     "text": [
      "Boa! A letra 'o' está na palavra secreta.\n",
      "\n",
      "       ------\n",
      "       |    |\n",
      "       |    O\n",
      "       |   /|\\\n",
      "       |\n",
      "       |\n",
      "    --------\n",
      "    \n",
      "Letras erradas: ['b', 'e', 'u', 'i']\n",
      "Tentativas restantes: 2\n",
      "_ o _ c a\n"
     ]
    },
    {
     "name": "stdin",
     "output_type": "stream",
     "text": [
      "\n",
      "Digite uma letra:  f\n"
     ]
    },
    {
     "name": "stdout",
     "output_type": "stream",
     "text": [
      "Boa! A letra 'f' está na palavra secreta.\n",
      "\n",
      "       ------\n",
      "       |    |\n",
      "       |    O\n",
      "       |   /|\\\n",
      "       |\n",
      "       |\n",
      "    --------\n",
      "    \n",
      "Letras erradas: ['b', 'e', 'u', 'i']\n",
      "Tentativas restantes: 2\n",
      "f o _ c a\n"
     ]
    },
    {
     "name": "stdin",
     "output_type": "stream",
     "text": [
      "\n",
      "Digite uma letra:  r\n"
     ]
    },
    {
     "name": "stdout",
     "output_type": "stream",
     "text": [
      "Boa! A letra 'r' está na palavra secreta.\n",
      "\n",
      "       ------\n",
      "       |    |\n",
      "       |    O\n",
      "       |   /|\\\n",
      "       |\n",
      "       |\n",
      "    --------\n",
      "    \n",
      "Você GANHOU!\n",
      "A palavra secreta é: forca\n"
     ]
    }
   ],
   "source": [
    "hangman.play()"
   ]
  },
  {
   "cell_type": "code",
   "execution_count": null,
   "id": "1f19809d-167d-4273-805b-47a8d4304ac3",
   "metadata": {},
   "outputs": [],
   "source": []
  }
 ],
 "metadata": {
  "kernelspec": {
   "display_name": "Python 3 (ipykernel)",
   "language": "python",
   "name": "python3"
  },
  "language_info": {
   "codemirror_mode": {
    "name": "ipython",
    "version": 3
   },
   "file_extension": ".py",
   "mimetype": "text/x-python",
   "name": "python",
   "nbconvert_exporter": "python",
   "pygments_lexer": "ipython3",
   "version": "3.12.4"
  }
 },
 "nbformat": 4,
 "nbformat_minor": 5
}
