{
 "cells": [
  {
   "cell_type": "markdown",
   "id": "253c2f26-3fc9-442e-a1b0-93e1b65f9d64",
   "metadata": {},
   "source": [
    "## Lab 2 - Calculadora\n",
    "### Sem funções"
   ]
  },
  {
   "cell_type": "code",
   "execution_count": null,
   "id": "0b1d36b4-1f68-41db-9d54-dc91504edbfe",
   "metadata": {},
   "outputs": [],
   "source": [
    "print(\" ----------- C A L C U L A D O R A -----------\\n\")\n",
    "print(\"1. Soma\\n2. Subtração \\n3. Multiplicação \\n4. Divisão\")"
   ]
  },
  {
   "cell_type": "code",
   "execution_count": null,
   "id": "23449b5f-1017-4ded-9000-fb79484cdf16",
   "metadata": {},
   "outputs": [],
   "source": [
    "choice = int(input(\"Escolha a operação que será realizada: \"))\n",
    "while choice != 1 and choice != 2 and choice != 3 and choice != 4:\n",
    "    print(\"Operação inválida. Tente novamente!\\n\")\n",
    "    choice = int(input(\"Escolha a operação que será realizada: \"))"
   ]
  },
  {
   "cell_type": "code",
   "execution_count": null,
   "id": "30a64189-0132-4c50-bf10-f7ae274a44e8",
   "metadata": {},
   "outputs": [],
   "source": [
    "n1 = float(input(\"Digite o primeiro número: \"))\n",
    "n2 = float(input(\"Digite o segundo número: \"))"
   ]
  },
  {
   "cell_type": "code",
   "execution_count": null,
   "id": "7baf6d2d-f27f-4c1b-9633-008b31bfb5be",
   "metadata": {},
   "outputs": [],
   "source": [
    "if choice == 1:\n",
    "    res = n1 + n2\n",
    "    print(\"%r + %r = %r\" %(n1, n2, res))\n",
    "elif choice == 2:\n",
    "    res = n1 - n2\n",
    "    print(\"%r - %r = %r\" %(n1, n2, res))\n",
    "elif choice == 3:\n",
    "    res = n1 * n2\n",
    "    print(\"%r * %r = %r\" %(n1, n2, res))\n",
    "else:\n",
    "    if n2 == 0:\n",
    "        while n2 == 0:\n",
    "            print(\"Não é possível fazer divisão por zero.\")\n",
    "            n2 = float(input(\"Digite o segundo número novamente: \"))\n",
    "    else:\n",
    "        res = n1 / n2\n",
    "        print(\"%r / %r = %r\" %(n1, n2, res))"
   ]
  },
  {
   "cell_type": "markdown",
   "id": "0704c880-0c9f-449d-a6a2-53dd60d928f9",
   "metadata": {},
   "source": [
    "### Com funções"
   ]
  },
  {
   "cell_type": "code",
   "execution_count": 1,
   "id": "5081d9da-5c50-49d0-8ce8-57abc59bb898",
   "metadata": {},
   "outputs": [],
   "source": [
    "def soma(n1, n2):\n",
    "    res = n1 + n2\n",
    "    print(\"%r + %r = %r\" %(n1, n2, res))\n",
    "def sub(n1, n2):\n",
    "    res = n1 - n2\n",
    "    print(\"%r - %r = %r\" %(n1, n2, res))\n",
    "def mult(n1, n2):\n",
    "    res = n1 * n2\n",
    "    print(\"%r * %r = %r\" %(n1, n2, res))\n",
    "def div(n1, n2):\n",
    "    res = n1 / n2\n",
    "    print(\"%r / %r = %r\" %(n1, n2, res))"
   ]
  },
  {
   "cell_type": "code",
   "execution_count": 2,
   "id": "7181ec99-de92-4ad2-bb98-1093653c8aee",
   "metadata": {},
   "outputs": [
    {
     "name": "stdout",
     "output_type": "stream",
     "text": [
      " ----------- C A L C U L A D O R A -----------\n",
      "\n",
      "1. Soma\n",
      "2. Subtração \n",
      "3. Multiplicação \n",
      "4. Divisão\n",
      "\n"
     ]
    },
    {
     "name": "stdin",
     "output_type": "stream",
     "text": [
      "Escolha a operação que será realizada:  4\n"
     ]
    },
    {
     "name": "stdout",
     "output_type": "stream",
     "text": [
      "\n"
     ]
    },
    {
     "name": "stdin",
     "output_type": "stream",
     "text": [
      "Digite o primeiro número:  9\n",
      "Digite o segundo número:  0\n"
     ]
    },
    {
     "name": "stdout",
     "output_type": "stream",
     "text": [
      "\n",
      "------ RESULTADO ------\n",
      "Não é possível realizar divisão por zero\n"
     ]
    },
    {
     "name": "stdin",
     "output_type": "stream",
     "text": [
      "Digite novamente o segundo número:  2\n"
     ]
    },
    {
     "name": "stdout",
     "output_type": "stream",
     "text": [
      "9.0 / 2.0 = 4.5\n"
     ]
    }
   ],
   "source": [
    "def calculadora():\n",
    "    ## Menu de apresentação\n",
    "    print(\" ----------- C A L C U L A D O R A -----------\\n\")\n",
    "    print(\"1. Soma\\n2. Subtração \\n3. Multiplicação \\n4. Divisão\\n\")\n",
    "\n",
    "    \n",
    "    ## Escolha do usuário\n",
    "    choice = int(input(\"Escolha a operação que será realizada: \"))\n",
    "    print()\n",
    "\n",
    "    ## Verificando a escolha do usuário\n",
    "    while choice != 1 and choice != 2 and choice != 3 and choice != 4:\n",
    "        print(\"Operação inválida. Tente novamente!\\n\")\n",
    "        choice = int(input(\"Escolha a operação que será realizada: \\n\"))\n",
    "    \n",
    "    n1 = float(input(\"Digite o primeiro número: \"))\n",
    "    n2 = float(input(\"Digite o segundo número: \"))\n",
    "    print()\n",
    "    print(\"------ RESULTADO ------\") \n",
    "\n",
    "    if choice == 1:\n",
    "        soma(n1, n2)\n",
    "    elif choice == 2:\n",
    "        sub(n1, n2)\n",
    "    elif choice == 3:\n",
    "        mult(n1, n2)\n",
    "    else:\n",
    "        if n2 == 0:\n",
    "            while n2 == 0:\n",
    "                print(\"Não é possível realizar divisão por ZERO!\")\n",
    "                n2 = float(input(\"Digite novamente o segundo número: \"))\n",
    "        div(n1, n2)\n",
    "            \n",
    "calculadora()"
   ]
  },
  {
   "cell_type": "code",
   "execution_count": null,
   "id": "cd48dab1-23b5-4381-b5d6-0165f599a754",
   "metadata": {},
   "outputs": [],
   "source": []
  }
 ],
 "metadata": {
  "kernelspec": {
   "display_name": "Python 3 (ipykernel)",
   "language": "python",
   "name": "python3"
  },
  "language_info": {
   "codemirror_mode": {
    "name": "ipython",
    "version": 3
   },
   "file_extension": ".py",
   "mimetype": "text/x-python",
   "name": "python",
   "nbconvert_exporter": "python",
   "pygments_lexer": "ipython3",
   "version": "3.12.4"
  }
 },
 "nbformat": 4,
 "nbformat_minor": 5
}
