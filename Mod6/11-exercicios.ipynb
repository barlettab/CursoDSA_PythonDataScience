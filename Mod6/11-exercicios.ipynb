{
 "cells": [
  {
   "cell_type": "markdown",
   "metadata": {},
   "source": [
    "# Data Science Academy\n",
    "\n",
    "## Capítulo 6 - Exercícios"
   ]
  },
  {
   "cell_type": "markdown",
   "metadata": {},
   "source": [
    "### Exercício 1 \n",
    "Crie uma lista de 3 elementos e calcule a terceira potência de cada elemento.\n"
   ]
  },
  {
   "cell_type": "code",
   "execution_count": 4,
   "metadata": {},
   "outputs": [
    {
     "name": "stdout",
     "output_type": "stream",
     "text": [
      "27 125 729 "
     ]
    }
   ],
   "source": [
    "lista = [3, 5, 9]\n",
    "for i in lista:\n",
    "    print(pow(i, 3), end=' ')"
   ]
  },
  {
   "cell_type": "markdown",
   "metadata": {},
   "source": [
    "### Exercício 2 \n",
    "Reescreva o código abaixo, usando a função `map()`. O resultado final deve ser o mesmo!"
   ]
  },
  {
   "cell_type": "code",
   "execution_count": 29,
   "metadata": {},
   "outputs": [
    {
     "name": "stdout",
     "output_type": "stream",
     "text": [
      "['A', 'a', 1]\n",
      "['DATA', 'data', 4]\n",
      "['SCIENCE', 'science', 7]\n",
      "['ACADEMY', 'academy', 7]\n",
      "['OFERECE', 'oferece', 7]\n",
      "['OS', 'os', 2]\n",
      "['MELHORES', 'melhores', 8]\n",
      "['CURSOS', 'cursos', 6]\n",
      "['DE', 'de', 2]\n",
      "['ANÁLISE', 'análise', 7]\n",
      "['DE', 'de', 2]\n",
      "['DADOS', 'dados', 5]\n",
      "['DO', 'do', 2]\n",
      "['BRASIL.', 'brasil.', 7]\n"
     ]
    }
   ],
   "source": [
    "palavras = 'A Data Science Academy oferece os melhores cursos de análise de dados do Brasil.'.split()\n",
    "resultado = [[w.upper(), w.lower(), len(w)] for w in palavras]\n",
    "for i in resultado:\n",
    "    print (i)"
   ]
  },
  {
   "cell_type": "code",
   "execution_count": 36,
   "metadata": {},
   "outputs": [
    {
     "name": "stdout",
     "output_type": "stream",
     "text": [
      "['A', 'a', 1]\n",
      "['DATA', 'data', 4]\n",
      "['SCIENCE', 'science', 7]\n",
      "['ACADEMY', 'academy', 7]\n",
      "['OFERECE', 'oferece', 7]\n",
      "['OS', 'os', 2]\n",
      "['MELHORES', 'melhores', 8]\n",
      "['CURSOS', 'cursos', 6]\n",
      "['DE', 'de', 2]\n",
      "['ANÁLISE', 'análise', 7]\n",
      "['DE', 'de', 2]\n",
      "['DADOS', 'dados', 5]\n",
      "['DO', 'do', 2]\n",
      "['BRASIL.', 'brasil.', 7]\n"
     ]
    }
   ],
   "source": [
    "# Solução\n",
    "palavras = 'A Data Science Academy oferece os melhores cursos de análise de dados do Brasil.'.split()\n",
    "\n",
    "def conta(palavra):\n",
    "    return [palavra.upper(), palavra.lower(), len(palavra)]\n",
    "\n",
    "mapping = map(conta, palavras)\n",
    "\n",
    "for item in mapping:\n",
    "    print(item)"
   ]
  },
  {
   "cell_type": "markdown",
   "metadata": {},
   "source": [
    "### Exercício 3\n",
    "Calcule a matriz transposta da matriz abaixo.  \n",
    "* Caso não saiba o que é matriz transposta, visite este link: https://pt.wikipedia.org/wiki/Matriz_transposta\n",
    "* Matriz transposta é um conceito fundamental na construção de redes neurais artificiais, base de sistemas de IA."
   ]
  },
  {
   "cell_type": "code",
   "execution_count": 58,
   "metadata": {},
   "outputs": [],
   "source": [
    "matrix = [[1, 2],[3,4],[5,6],[7,8]]"
   ]
  },
  {
   "cell_type": "code",
   "execution_count": 59,
   "metadata": {},
   "outputs": [
    {
     "name": "stdout",
     "output_type": "stream",
     "text": [
      "Matriz original:\n",
      "[1, 2]\n",
      "[3, 4]\n",
      "[5, 6]\n",
      "[7, 8]\n",
      "\n",
      "Matriz transposta:\n",
      "[1, 3, 5, 7]\n",
      "[2, 4, 6, 8]\n"
     ]
    }
   ],
   "source": [
    "### matrix = [[1,2],\n",
    "#             [3,4],\n",
    "#             [5,6],\n",
    "#             [7,8]]\n",
    "\n",
    "# Imprimindo a matrix original\n",
    "print(\"Matriz original:\")\n",
    "for linha in matrix:\n",
    "    print(linha)\n",
    "\n",
    "# Cada coluna da original será uma linha na transposta\n",
    "### matrixT = [[1,3,5,7],\n",
    "#              [2,4,5,6]]\n",
    "\n",
    "matrixT = []\n",
    "num_col = len(matrix[0])\n",
    "num_lin = len(matrix)\n",
    "print(\"\\nMatriz transposta:\")\n",
    "\n",
    "for coluna in range(num_col):\n",
    "    matrixT.append([])\n",
    "    for linha in range(num_lin):\n",
    "        matrixT[coluna].append(matrix[linha][coluna])\n",
    "\n",
    "# Imprimindo a matrix transposta\n",
    "for linha in matrixT:\n",
    "    print(linha)"
   ]
  },
  {
   "cell_type": "markdown",
   "metadata": {},
   "source": [
    "### Exercício 4\n",
    "- Crie duas funções, uma para elevar um número ao quadrado e outra para elevar ao cubo. \n",
    "- Aplique as duas funções aos elementos da lista abaixo. \n",
    "- Obs: as duas funções devem ser aplicadas simultaneamente.\n",
    "\n"
   ]
  },
  {
   "cell_type": "code",
   "execution_count": 29,
   "metadata": {},
   "outputs": [],
   "source": [
    "lista = [0, 1, 2, 3, 4]"
   ]
  },
  {
   "cell_type": "code",
   "execution_count": 35,
   "metadata": {},
   "outputs": [
    {
     "name": "stdout",
     "output_type": "stream",
     "text": [
      "Primeira lista: [0, 1, 4, 9, 16]\n",
      "Segunda lista: [0, 1, 8, 27, 64]\n"
     ]
    }
   ],
   "source": [
    "def square(list):\n",
    "    squares = []\n",
    "    for item in list:\n",
    "        squares.append(item**2)\n",
    "    return squares\n",
    "\n",
    "def cube(list):\n",
    "    cubes = []\n",
    "    for item in list:\n",
    "        cubes.append(item**3)\n",
    "    return cubes\n",
    "\n",
    "print(f\"Primeira lista: {square(lista)}\")\n",
    "print(f\"Segunda lista: {cube(lista)}\")"
   ]
  },
  {
   "cell_type": "markdown",
   "metadata": {},
   "source": [
    "### Exercício 5 \n",
    "Abaixo você encontra duas listas. Faça com que cada elemento da listaA seja elevado ao elemento correspondente na listaB."
   ]
  },
  {
   "cell_type": "code",
   "execution_count": 45,
   "metadata": {},
   "outputs": [],
   "source": [
    "listaA = [2, 3, 4]\n",
    "listaB = [10, 11, 12]"
   ]
  },
  {
   "cell_type": "code",
   "execution_count": 44,
   "metadata": {},
   "outputs": [
    {
     "name": "stdout",
     "output_type": "stream",
     "text": [
      "2 ** 10 = 1024\n",
      "3 ** 11 = 177147\n",
      "4 ** 12 = 16777216\n"
     ]
    }
   ],
   "source": [
    "for i1 in listaA:\n",
    "    for i2 in listaB:\n",
    "        if listaA.index(i1) == listaB.index(i2):\n",
    "            print(f\"{i1} ** {i2} = {i1**i2}\")\n",
    "        "
   ]
  },
  {
   "cell_type": "markdown",
   "metadata": {},
   "source": [
    "### Exercício 6 \n",
    " Considerando o range de valores abaixo, use a função filter() para retornar apenas os valores negativos  \n",
    "`range(-5, 5)`\n"
   ]
  },
  {
   "cell_type": "code",
   "execution_count": 50,
   "metadata": {},
   "outputs": [
    {
     "data": {
      "text/plain": [
       "[-5, -4, -3, -2, -1]"
      ]
     },
     "execution_count": 50,
     "metadata": {},
     "output_type": "execute_result"
    }
   ],
   "source": [
    "def neg(number):\n",
    "    if number < 0:\n",
    "        return number\n",
    "        \n",
    "list(filter(neg, range(-5, 5)))\n",
    "    "
   ]
  },
  {
   "cell_type": "markdown",
   "metadata": {},
   "source": [
    "### Exercício 7 \n",
    "Usando a função `filter()`, encontre os valores que são comuns às duas listas abaixo.\n"
   ]
  },
  {
   "cell_type": "code",
   "execution_count": 60,
   "metadata": {},
   "outputs": [],
   "source": [
    "a = [1,2,3,5,7,9]\n",
    "b = [2,3,5,6,7,8]"
   ]
  },
  {
   "cell_type": "code",
   "execution_count": 63,
   "metadata": {},
   "outputs": [
    {
     "name": "stdout",
     "output_type": "stream",
     "text": [
      "[2, 3, 5, 7]\n"
     ]
    }
   ],
   "source": [
    "def is_equal(numero):\n",
    "    return numero in a and numero in b\n",
    "\n",
    "equals = filter(is_equal, b)\n",
    "print(list(equals))"
   ]
  },
  {
   "cell_type": "markdown",
   "metadata": {},
   "source": [
    "`Observação:`você não precisa passar ambas as listas diretamente para a função filter. Você pode simplesmente utilizar uma função ou expressão que tenha acesso às duas listas"
   ]
  },
  {
   "cell_type": "markdown",
   "metadata": {},
   "source": [
    "### Exercício 8 \n",
    "Considere os dois dicionários abaixo. Crie um terceiro dicionário com as chaves do dicionário 1 e os valores do dicionário 2."
   ]
  },
  {
   "cell_type": "code",
   "execution_count": 64,
   "metadata": {},
   "outputs": [],
   "source": [
    "dict1 = {'a':1,'b':2}\n",
    "dict2 = {'c':4,'d':5}"
   ]
  },
  {
   "cell_type": "code",
   "execution_count": 78,
   "metadata": {},
   "outputs": [
    {
     "data": {
      "text/plain": [
       "{'a': 4, 'b': 5}"
      ]
     },
     "execution_count": 78,
     "metadata": {},
     "output_type": "execute_result"
    }
   ],
   "source": [
    "dict(zip(dict1, dict2.values()))"
   ]
  },
  {
   "cell_type": "markdown",
   "metadata": {},
   "source": [
    "### Exercício 9 \n",
    "Considere a lista abaixo e retorne apenas os elementos cujo índice for maior que 5."
   ]
  },
  {
   "cell_type": "code",
   "execution_count": 3,
   "metadata": {},
   "outputs": [],
   "source": [
    "lista = ['a', 'b', 'c', 'd', 'e', 'f', 'g', 'h']"
   ]
  },
  {
   "cell_type": "code",
   "execution_count": 28,
   "metadata": {},
   "outputs": [
    {
     "name": "stdout",
     "output_type": "stream",
     "text": [
      "Os elementos cujo o índice é maior que 5 são:\n",
      "f g h "
     ]
    }
   ],
   "source": [
    "print(\"Os elementos cujo o índice é maior que 5 são:\")\n",
    "for elemento in lista:\n",
    "    if elemento in lista[5:]:\n",
    "        print(elemento, end=' ')\n",
    "    "
   ]
  },
  {
   "cell_type": "markdown",
   "metadata": {},
   "source": [
    "### Exercício 10\n",
    "Crie um regex em Python para extrair a palavra que aparece depois das palavras \n",
    "* Data e Science na frase: 'A Data Science Academy oferece os melhores cursos de análise de dados do Brasil.'"
   ]
  },
  {
   "cell_type": "code",
   "execution_count": 81,
   "metadata": {},
   "outputs": [
    {
     "name": "stdout",
     "output_type": "stream",
     "text": [
      "A palavra após \"Data Science\" é: Academy\n"
     ]
    }
   ],
   "source": [
    "import re\n",
    "texto = 'A Data Science Academy oferece os melhores cursos de análise de dados do Brasil.'\n",
    "\n",
    "# Regex para encontrar a palavra após \"Data\" e \"Science\"\n",
    "padrao = r'Data\\s+Science\\s+(\\w+)'\n",
    "\n",
    "# Usando re.search para encontrar a correspondência\n",
    "match = re.search(padrao, texto)\n",
    "\n",
    "if match:\n",
    "    palavra = match.group(1)\n",
    "    print(f'A palavra após \"Data Science\" é: {palavra}')\n",
    "else:\n",
    "    print('Nenhuma correspondência encontrada.')\n"
   ]
  },
  {
   "cell_type": "markdown",
   "metadata": {},
   "source": [
    "`Observação:`   \n",
    "\n",
    "`group(0):` Retorna a string completa que corresponde à expressão regular.  \n",
    "`group(1):` Retorna o primeiro grupo capturado pela expressão regular. Grupos são definidos usando parênteses na expressão.  \n",
    "`group(2), group(3), etc.:` Se você tiver mais de um grupo na expressão, group(2) retornará o segundo grupo, e assim por diante.  "
   ]
  },
  {
   "cell_type": "code",
   "execution_count": null,
   "metadata": {},
   "outputs": [],
   "source": []
  }
 ],
 "metadata": {
  "kernelspec": {
   "display_name": "Python 3 (ipykernel)",
   "language": "python",
   "name": "python3"
  },
  "language_info": {
   "codemirror_mode": {
    "name": "ipython",
    "version": 3
   },
   "file_extension": ".py",
   "mimetype": "text/x-python",
   "name": "python",
   "nbconvert_exporter": "python",
   "pygments_lexer": "ipython3",
   "version": "3.12.4"
  }
 },
 "nbformat": 4,
 "nbformat_minor": 4
}
