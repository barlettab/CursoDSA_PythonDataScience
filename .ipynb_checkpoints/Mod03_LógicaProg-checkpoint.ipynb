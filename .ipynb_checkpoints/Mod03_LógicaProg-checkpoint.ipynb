{
 "cells": [
  {
   "cell_type": "markdown",
   "id": "b936bbdb-ec5d-47cc-9799-6cf46ceed467",
   "metadata": {},
   "source": [
    "## Módulo 3 | Lógica de Programação "
   ]
  },
  {
   "cell_type": "markdown",
   "id": "93c1c8c6-f7fd-441c-90ac-892b22899516",
   "metadata": {},
   "source": [
    "### Pseudocódigo 1 - Calcular a Área de Um Paralelograma"
   ]
  },
  {
   "cell_type": "markdown",
   "id": "c723b428-9299-489e-8ddc-0f072da29550",
   "metadata": {},
   "source": [
    "Nota: Um paralelogramo é um quadrilátero com lados opostos paralelos (e portanto ângulos opostos iguais). Um quadrilátero com lados iguais é chamado de losango e um paralelogramo cujos lados são todos ângulos retos é chamado de retângulo."
   ]
  },
  {
   "cell_type": "markdown",
   "id": "373e7705-e83d-437d-9f51-438807c8d812",
   "metadata": {},
   "source": [
    "Inicie  \n",
    "\n",
    "    Exiba \"Bem-vindo ao Calculador de Área Paralelogramo\"  \n",
    "    Faça para o usuário inserir o comprimento da base  \n",
    "    Armazene o comprimento da base em uma variável  \n",
    "    Faça para o usuário inserir a altura  \n",
    "    Armazene a altura em uma variável  \n",
    "    Calcule a área do paralelogramo: base x altura  \n",
    "    Armazene o resultado em uma variável  \n",
    "    Exiba o resultado  \n",
    "    \n",
    "Fim"
   ]
  },
  {
   "cell_type": "markdown",
   "id": "8036418f-b352-4ad5-9d76-3713f255703e",
   "metadata": {},
   "source": [
    "### Convertendo o Pseudocódigo 1 em Programação Python"
   ]
  },
  {
   "cell_type": "code",
   "execution_count": 1,
   "id": "262b6c27-28d7-4468-b7b9-0b94aec6ae8a",
   "metadata": {},
   "outputs": [
    {
     "name": "stdout",
     "output_type": "stream",
     "text": [
      "Bem-vindo ao Calculador de Área Paralelogramo\n"
     ]
    }
   ],
   "source": [
    "print(\"Bem-vindo ao Calculador de Área Paralelogramo\")"
   ]
  },
  {
   "cell_type": "code",
   "execution_count": 2,
   "id": "5b19366f-5848-47d4-af86-f3800d1ab61f",
   "metadata": {},
   "outputs": [
    {
     "name": "stdin",
     "output_type": "stream",
     "text": [
      "Insira o comprimento da base:  5\n"
     ]
    }
   ],
   "source": [
    "base = float(input(\"Insira o comprimento da base: \"))"
   ]
  },
  {
   "cell_type": "code",
   "execution_count": 3,
   "id": "096c0c53-ccbf-4f9b-9a72-3903539554ce",
   "metadata": {},
   "outputs": [
    {
     "name": "stdin",
     "output_type": "stream",
     "text": [
      "Insire o comprimento da altura:  14\n"
     ]
    }
   ],
   "source": [
    "altura = float(input(\"Insire o comprimento da altura: \"))"
   ]
  },
  {
   "cell_type": "code",
   "execution_count": 4,
   "id": "5f9a5ba3-caa2-4840-9dbc-16ee0e28ec09",
   "metadata": {},
   "outputs": [],
   "source": [
    "area = base * altura"
   ]
  },
  {
   "cell_type": "code",
   "execution_count": 5,
   "id": "1c8bf782-65d7-442e-b77b-2b08f0636fbe",
   "metadata": {},
   "outputs": [
    {
     "name": "stdout",
     "output_type": "stream",
     "text": [
      "A área do parelelograma é:  70.0\n"
     ]
    }
   ],
   "source": [
    "print(\"A área do parelelograma é: \", area)"
   ]
  },
  {
   "cell_type": "markdown",
   "id": "89b06948-a353-4789-bf60-3d7c0678d045",
   "metadata": {},
   "source": [
    "### Pseudocódigo 2 - Calculadora Simples"
   ]
  },
  {
   "cell_type": "markdown",
   "id": "ae4d5cd9-fcac-472b-9aef-ed444b620cc1",
   "metadata": {},
   "source": [
    "Inicio  \n",
    "\n",
    "    Exiba \"Bem-vindo à Calculadora Simples\"  \n",
    "    Faça o usuário inserir o primeiro número  \n",
    "    Armazene o primeiro número em uma variável  \n",
    "    Faça o usuário inserir o segundo número  \n",
    "    Armazene o segundo número em outra variável  \n",
    "    Faça o usuário inserir a operação desejada (+, -, *, /)  \n",
    "    Armazene a operação em uma varíavel\n",
    "    Calcule o resultado em uma variável a partir da operação selecionada\n",
    "    Exiba o resultado  \n",
    "\n",
    "Fim\n",
    "    \n",
    "    "
   ]
  },
  {
   "cell_type": "markdown",
   "id": "5362712d-d49c-4a52-a90c-a6ff0f9a1d20",
   "metadata": {},
   "source": [
    "### Convertendo Pseudocódigo 2 em Programa Python"
   ]
  },
  {
   "cell_type": "code",
   "execution_count": 43,
   "id": "44070fdb-d725-42d3-8e53-9e84d236eb7e",
   "metadata": {},
   "outputs": [
    {
     "name": "stdout",
     "output_type": "stream",
     "text": [
      "Bem-vindo à Calculadora Simples\n"
     ]
    }
   ],
   "source": [
    "print(\"Bem-vindo à Calculadora Simples\")"
   ]
  },
  {
   "cell_type": "code",
   "execution_count": 44,
   "id": "c7eed449-2291-42cc-a1c7-8fed08793338",
   "metadata": {},
   "outputs": [
    {
     "name": "stdin",
     "output_type": "stream",
     "text": [
      "Insira o primeiro número:  2\n"
     ]
    }
   ],
   "source": [
    "n1 = float(input(\"Insira o primeiro número: \"))"
   ]
  },
  {
   "cell_type": "code",
   "execution_count": 48,
   "id": "ecde751a-d927-4b18-a25c-fbfc8389c8e2",
   "metadata": {},
   "outputs": [
    {
     "name": "stdin",
     "output_type": "stream",
     "text": [
      "Insira o segundo número:  0\n"
     ]
    }
   ],
   "source": [
    "n2 = float(input(\"Insira o segundo número: \"))"
   ]
  },
  {
   "cell_type": "code",
   "execution_count": 49,
   "id": "fd9e605a-4eb9-4dde-874b-6e379f912d61",
   "metadata": {},
   "outputs": [
    {
     "name": "stdin",
     "output_type": "stream",
     "text": [
      "Insira a operação desejada (+, -, *, /):  /\n"
     ]
    }
   ],
   "source": [
    "str = input(\"Insira a operação desejada (+, -, *, /): \")"
   ]
  },
  {
   "cell_type": "code",
   "execution_count": 51,
   "id": "33f951ec-c768-431f-8cb3-3f03f1f4aa64",
   "metadata": {},
   "outputs": [
    {
     "name": "stdout",
     "output_type": "stream",
     "text": [
      "Não é possível fazer divisão por zero.\n"
     ]
    }
   ],
   "source": [
    "if str == '+':\n",
    "    resultado = n1 + n2\n",
    "    print(\"O resultado é: \", resultado)\n",
    "elif str == '-':\n",
    "    resultado = n1 - n2\n",
    "    print(\"O resultado é: \", resultado)\n",
    "elif str == '*':\n",
    "    resultado = n1 * n2\n",
    "    print(\"O resultado é: \", resultado)\n",
    "elif str == '/':\n",
    "    if n2 == 0:\n",
    "        resultado = \"Não é possível fazer divisão por zero.\"\n",
    "        print(resultado)\n",
    "    else:\n",
    "        resultado = n1 / n2\n",
    "        print(\"O resultado é: \", resultado)\n",
    "else:\n",
    "    print(\"Operação inválida.\")"
   ]
  },
  {
   "cell_type": "markdown",
   "id": "0ce566b2-6742-43e7-a747-030d58d5452e",
   "metadata": {},
   "source": [
    "### Pseudocódigo 3 - Algoritmo Bubble Sort"
   ]
  },
  {
   "cell_type": "markdown",
   "id": "a1ce1d42-859b-46b5-b051-3405df418f12",
   "metadata": {},
   "source": [
    "Bubble Sort é um algoritmo de ordenação simples que funciona comparando cada elemento com o próximo, e trocando-os de lugar se eles estiverem em ordem incorreta. O algoritmo repete esse processo várias vezes, até que todos os elementos estejam ordenados. A cada passagem, o maior elemento \"flutua\" para o final do array, como uma bolha, dando origem ao nome do algoritmo."
   ]
  },
  {
   "cell_type": "markdown",
   "id": "c5f15b6c-71a3-42bc-a9dd-8ee82634ca9a",
   "metadata": {},
   "source": [
    "Inicie  \n",
    "\n",
    "    Para cada elemento i no array de tamanho n  \n",
    "        Para cada elemento j no array de tamanho n - 1   \n",
    "            Se o elemento i for maior que elemento j  \n",
    "                Troque os elementos i e j  \n",
    "    Exiba o array ordenado  \n",
    "\n",
    "Fim"
   ]
  },
  {
   "cell_type": "code",
   "execution_count": 52,
   "id": "31456be3-a40e-4085-a29a-8e4e30ef49bd",
   "metadata": {},
   "outputs": [],
   "source": [
    "# Considere esta lista como exemplo para ordenação com Bubble Sort\n",
    "lista = [6, 3, 12, 7]"
   ]
  },
  {
   "cell_type": "code",
   "execution_count": null,
   "id": "7522c2ec-2225-4ed1-9bd5-1cc436c55d9f",
   "metadata": {},
   "outputs": [],
   "source": [
    "# Primeira passada do algoritmo (troca os elementos 6 e 3 de lugar)\n",
    "lista = [3, 6, 12, 7]"
   ]
  },
  {
   "cell_type": "code",
   "execution_count": null,
   "id": "306e2d1f-a333-43d9-a9b0-6e95f0f4a2ff",
   "metadata": {},
   "outputs": [],
   "source": [
    "# Segunda passada do algoritmo (não troca 6 e 12)\n",
    "lista = [3, 6, 12, 7]"
   ]
  },
  {
   "cell_type": "code",
   "execution_count": null,
   "id": "7f287ff2-ba31-40bc-9e3c-3452fde6da94",
   "metadata": {},
   "outputs": [],
   "source": [
    "# Terceira passada do algoritmo (troca os elementos 7 e 12 de lugar)\n",
    "lista = [3, 6, 7, 12]"
   ]
  },
  {
   "cell_type": "code",
   "execution_count": 60,
   "id": "92daad2a-1aa1-4213-b52e-b9451568d687",
   "metadata": {},
   "outputs": [],
   "source": [
    "lista1 = [6, 7, 8, 3, 10, 19, 4, 1, 0, 61, 30, 16, 17, 82, 29, 34, 43, 21, 11, 39, 56, 67, 12]"
   ]
  },
  {
   "cell_type": "code",
   "execution_count": 61,
   "id": "0e57da5b-ec75-463c-8db2-74d784a3e7cc",
   "metadata": {},
   "outputs": [],
   "source": [
    "def bubble_sort(arr):\n",
    "    n = len(arr)\n",
    "\n",
    "    # Para cada elemento i no array\n",
    "    for i in range(n):\n",
    "\n",
    "        # para cada elemento j no array\n",
    "        for j in range(0, n-i-1):\n",
    "\n",
    "            # Se o elemento i for maior que o elemento j\n",
    "                if arr[j] > arr[j+1]:\n",
    "\n",
    "                    # Troque os elementos i e j\n",
    "                    arr[j], arr[j+1] = arr[j+1], arr[j]\n",
    "    return arr"
   ]
  },
  {
   "cell_type": "code",
   "execution_count": 62,
   "id": "aa06e94e-37b6-4c0d-9969-b9e0001b0d1e",
   "metadata": {},
   "outputs": [
    {
     "name": "stdout",
     "output_type": "stream",
     "text": [
      "[0, 1, 3, 4, 6, 7, 8, 10, 11, 12, 16, 17, 19, 21, 29, 30, 34, 39, 43, 56, 61, 67, 82]\n"
     ]
    }
   ],
   "source": [
    "print(bubble_sort(lista1))"
   ]
  },
  {
   "cell_type": "code",
   "execution_count": null,
   "id": "f05d2d58-a1ee-4424-97fd-7dfbb055ff67",
   "metadata": {},
   "outputs": [],
   "source": []
  }
 ],
 "metadata": {
  "kernelspec": {
   "display_name": "Python 3 (ipykernel)",
   "language": "python",
   "name": "python3"
  },
  "language_info": {
   "codemirror_mode": {
    "name": "ipython",
    "version": 3
   },
   "file_extension": ".py",
   "mimetype": "text/x-python",
   "name": "python",
   "nbconvert_exporter": "python",
   "pygments_lexer": "ipython3",
   "version": "3.12.4"
  }
 },
 "nbformat": 4,
 "nbformat_minor": 5
}
