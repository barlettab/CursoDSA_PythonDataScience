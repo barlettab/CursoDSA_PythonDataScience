{
 "cells": [
  {
   "cell_type": "markdown",
   "id": "a9ea4a54-8bff-4c69-85aa-b7c94fcfb836",
   "metadata": {},
   "source": [
    "# Data Science Academy\n",
    "## Capítulo 7 - Projeto 01 : Hangman"
   ]
  },
  {
   "cell_type": "markdown",
   "id": "588de90f-2cfb-429b-a993-453c1f19863f",
   "metadata": {},
   "source": [
    "### Criando o pseudocódigo com ChatGPT"
   ]
  },
  {
   "cell_type": "markdown",
   "id": "4dbdcd7a-7077-4c54-8fb4-cdf49bffbe43",
   "metadata": {},
   "source": [
    "1. Definir a lista de palavras possíveis.  \n",
    "2. Escolher uma palavra aleatória da lista.  \n",
    "3. Criar uma lista vazia para armazenar as letras adivinhadas.\n",
    "4. Definir o número máximo de tentativas permitidas  \n",
    "5. Enquanto o número de tentativas não atingir o limite máximo.  \n",
    "   a. Mostrar a palavra como uma série de underscores, com as letras adivinhas e preenchidas nos lugares corretos.  \n",
    "   b. Pedir ao jogar que adivinhe uma letra.  \n",
    "   c. Verificar se a letra adivinhar está na palavra.  \n",
    "   d. Se a letra adivinhada está na palavra, adicionar a letra à lista de letras adivinhadas e atualizar a exibição da palavra.  \n",
    "   e. Se a letra adivinha não está na palavra, reduzir o número de tentativas restantes e exibir a mensagem \"Letra Incorreta. Tentativas restantes: [número de tentativas]\"  \n",
    "   f. Verificar se todas as letras da palavra foram adivinhadas.  \n",
    "   g. Se todas as letras foram adivinhadas, exibir a mensagem: \"Você venceu!\"  \n",
    "   h. Se o número de tentativas restantes chegar a zero, exibir a mensagem: \"Você perdeu. A palavra escolhida era [palavra escolhida]\" e encerrar o jogo."
   ]
  },
  {
   "cell_type": "markdown",
   "id": "83052e57-7a7e-41eb-88af-46ca81347989",
   "metadata": {},
   "source": [
    "### Versão 1"
   ]
  },
  {
   "cell_type": "code",
   "execution_count": 18,
   "id": "2d62fe1c-d85a-480d-bd79-81920a107042",
   "metadata": {},
   "outputs": [
    {
     "name": "stdout",
     "output_type": "stream",
     "text": [
      "\n",
      "Bem vindo(a) ao jogo da forca!\n",
      "Adivinhe a palavra abaixo:\n",
      "\n",
      "_ _ _ _ _ _\n",
      "\n",
      "Chances Restantes: 12\n",
      "Letras Erradas: []\n"
     ]
    },
    {
     "name": "stdin",
     "output_type": "stream",
     "text": [
      "\n",
      "Digite uma letra:  a\n"
     ]
    },
    {
     "name": "stdout",
     "output_type": "stream",
     "text": [
      "_ _ _ _ _ a\n",
      "\n",
      "Chances Restantes: 12\n",
      "Letras Erradas: []\n"
     ]
    },
    {
     "name": "stdin",
     "output_type": "stream",
     "text": [
      "\n",
      "Digite uma letra:  b\n"
     ]
    },
    {
     "name": "stdout",
     "output_type": "stream",
     "text": [
      "_ _ _ _ _ a\n",
      "\n",
      "Chances Restantes: 11\n",
      "Letras Erradas: ['b']\n"
     ]
    },
    {
     "name": "stdin",
     "output_type": "stream",
     "text": [
      "\n",
      "Digite uma letra:  c\n"
     ]
    },
    {
     "name": "stdout",
     "output_type": "stream",
     "text": [
      "c _ _ _ _ a\n",
      "\n",
      "Chances Restantes: 11\n",
      "Letras Erradas: ['b']\n"
     ]
    },
    {
     "name": "stdin",
     "output_type": "stream",
     "text": [
      "\n",
      "Digite uma letra:  d\n"
     ]
    },
    {
     "name": "stdout",
     "output_type": "stream",
     "text": [
      "c _ _ _ _ a\n",
      "\n",
      "Chances Restantes: 10\n",
      "Letras Erradas: ['b', 'd']\n"
     ]
    },
    {
     "name": "stdin",
     "output_type": "stream",
     "text": [
      "\n",
      "Digite uma letra:  e\n"
     ]
    },
    {
     "name": "stdout",
     "output_type": "stream",
     "text": [
      "c e _ _ _ a\n",
      "\n",
      "Chances Restantes: 10\n",
      "Letras Erradas: ['b', 'd']\n"
     ]
    },
    {
     "name": "stdin",
     "output_type": "stream",
     "text": [
      "\n",
      "Digite uma letra:  f\n"
     ]
    },
    {
     "name": "stdout",
     "output_type": "stream",
     "text": [
      "c e _ _ _ a\n",
      "\n",
      "Chances Restantes: 9\n",
      "Letras Erradas: ['b', 'd', 'f']\n"
     ]
    },
    {
     "name": "stdin",
     "output_type": "stream",
     "text": [
      "\n",
      "Digite uma letra:  l\n"
     ]
    },
    {
     "name": "stdout",
     "output_type": "stream",
     "text": [
      "c e l _ l a\n",
      "\n",
      "Chances Restantes: 9\n",
      "Letras Erradas: ['b', 'd', 'f']\n"
     ]
    },
    {
     "name": "stdin",
     "output_type": "stream",
     "text": [
      "\n",
      "Digite uma letra:  u\n"
     ]
    },
    {
     "name": "stdout",
     "output_type": "stream",
     "text": [
      "Você venceu, a palavra era:  celula\n"
     ]
    }
   ],
   "source": [
    "import random\n",
    "from os import system, name\n",
    "\n",
    "# Função para limpar a tela a cada execução\n",
    "def limpa_tela():\n",
    "    # Windows\n",
    "    if name == 'nt':\n",
    "        _ = system('cls')\n",
    "    # Mac ou Linux\n",
    "    else:\n",
    "        _ = system('clear')\n",
    "\n",
    "# Função do Game \n",
    "def handman():\n",
    "    limpa_tela()\n",
    "    print(\"\\nBem vindo(a) ao jogo da forca!\")\n",
    "    print(\"Adivinhe a palavra abaixo:\\n\")\n",
    "\n",
    "    # Lista de palavras possíveis  \n",
    "    palavras = [\n",
    "        \"atomo\", \"molecula\", \"evolucao\", \"energia\", \"foton\", \"gravidade\",\n",
    "        \"osmose\", \"celula\", \"tensao\", \"velocidade\", \"entropia\", \"acido\",\n",
    "        \"neutron\", \"reacao\", \"fusao\", \"derivada\", \"integracao\", \"vetor\",\n",
    "        \"fotossintese\", \"genetica\", \"isotopo\", \"forca\", \"massa\", \"potencial\",\n",
    "        \"densidade\", \"pressao\", \"fissao\", \"bioquimica\", \"enzima\", \"base\",\n",
    "        \"eletrólise\", \"capilaridade\", \"resistencia\", \"movimento\", \"cinematica\",\n",
    "        \"morfologia\", \"organela\", \"ecossistema\", \"mitocondria\", \"catalisador\",\n",
    "        \"friccao\", \"ondas\", \"radioatividade\", \"exponencial\", \"logaritmo\",\n",
    "        \"algebra\", \"calculo\", \"acido-base\", \"recombinacao\", \"sintese\",\n",
    "        \"quantum\", \"biosfera\", \"hereditariedade\", \"nucleotideo\", \"atrito\",\n",
    "        \"dilatacao\", \"torque\"\n",
    "    ]\n",
    "\n",
    "    # Escolhendo uma palavra aleatória da lista\n",
    "    palavra_escolhida = random.choice(palavras)\n",
    "\n",
    "    # Criando uma lista para armazenar as letras adivinhadas e letras erradas  \n",
    "    letras_adivinhadas = ['_' for letra in palavra_escolhida]\n",
    "    letras_erradas = []\n",
    "\n",
    "    # Número de chances\n",
    "    chances = 12\n",
    "\n",
    "    while chances > 0:\n",
    "        print(\" \".join(letras_adivinhadas))\n",
    "        print(f\"\\nChances Restantes: {chances}\")\n",
    "        print(f\"Letras Erradas: {letras_erradas}\")\n",
    "\n",
    "        # Tentativa\n",
    "        tentativa = input(\"\\nDigite uma letra: \").lower()\n",
    "        if tentativa in palavra_escolhida:\n",
    "            index = 0\n",
    "            for letra in palavra_escolhida:\n",
    "                if tentativa == letra:\n",
    "                    # substituindo o '_' pela letra\n",
    "                    letras_adivinhadas[index] = letra\n",
    "                index += 1\n",
    "        else:\n",
    "            chances -= 1\n",
    "            letras_erradas.append(tentativa)\n",
    "       \n",
    "        # se não há mais '_' então o usuário ganhou!\n",
    "        if \"_\" not in letras_adivinhadas:\n",
    "            print(\"Você venceu, a palavra era: \", palavra_escolhida)\n",
    "            break\n",
    "\n",
    "    if \"_\" in letras_adivinhadas:\n",
    "        print(\"\\nVocê perdeu, a palavra era:\", palavra_escolhida)\n",
    "\n",
    "# bloco main\n",
    "if __name__ == \"__main__\":\n",
    "    handman()\n",
    "        "
   ]
  },
  {
   "cell_type": "markdown",
   "id": "9a9b25b4-3440-48e2-a3b6-1ac378dc9d4a",
   "metadata": {},
   "source": [
    "### Versão 2"
   ]
  },
  {
   "cell_type": "code",
   "execution_count": 17,
   "id": "84f1d61a-c954-4877-8ac6-8c52e80c19eb",
   "metadata": {},
   "outputs": [
    {
     "name": "stdout",
     "output_type": "stream",
     "text": [
      "\n",
      "Bem vindo(a) ao jogo da forca!\n",
      "Adivinhe a palavra abaixo:\n",
      "\n",
      "\n",
      "           ------\n",
      "           |    |\n",
      "           |\n",
      "           |\n",
      "           |\n",
      "           |\n",
      "        --------\n",
      "        \n",
      "Palavra:  _ _ _ _ _\n",
      "\n",
      "Chances Restantes: 6\n",
      "Letras Erradas: \n"
     ]
    },
    {
     "name": "stdin",
     "output_type": "stream",
     "text": [
      "\n",
      "Digite uma letra:  a\n"
     ]
    },
    {
     "name": "stdout",
     "output_type": "stream",
     "text": [
      "Você acertou a letra!\n",
      "\n",
      "           ------\n",
      "           |    |\n",
      "           |\n",
      "           |\n",
      "           |\n",
      "           |\n",
      "        --------\n",
      "        \n",
      "Palavra:  a _ _ _ _\n",
      "\n",
      "Chances Restantes: 6\n",
      "Letras Erradas: \n"
     ]
    },
    {
     "name": "stdin",
     "output_type": "stream",
     "text": [
      "\n",
      "Digite uma letra:  c\n"
     ]
    },
    {
     "name": "stdout",
     "output_type": "stream",
     "text": [
      "Ops! Essa letra não está na palavra.\n",
      "\n",
      "           ------\n",
      "           |    |\n",
      "           |    O\n",
      "           |\n",
      "           |\n",
      "           |\n",
      "        --------\n",
      "        \n",
      "Palavra:  a _ _ _ _\n",
      "\n",
      "Chances Restantes: 5\n",
      "Letras Erradas: c\n"
     ]
    },
    {
     "name": "stdin",
     "output_type": "stream",
     "text": [
      "\n",
      "Digite uma letra:  d\n"
     ]
    },
    {
     "name": "stdout",
     "output_type": "stream",
     "text": [
      "Ops! Essa letra não está na palavra.\n",
      "\n",
      "           ------\n",
      "           |    |\n",
      "           |    O\n",
      "           |    |\n",
      "           |\n",
      "           |\n",
      "        --------\n",
      "        \n",
      "Palavra:  a _ _ _ _\n",
      "\n",
      "Chances Restantes: 4\n",
      "Letras Erradas: c, d\n"
     ]
    },
    {
     "name": "stdin",
     "output_type": "stream",
     "text": [
      "\n",
      "Digite uma letra:  e\n"
     ]
    },
    {
     "name": "stdout",
     "output_type": "stream",
     "text": [
      "Ops! Essa letra não está na palavra.\n",
      "\n",
      "           ------\n",
      "           |    |\n",
      "           |    O\n",
      "           |   /|\n",
      "           |\n",
      "           |\n",
      "        --------\n",
      "        \n",
      "Palavra:  a _ _ _ _\n",
      "\n",
      "Chances Restantes: 3\n",
      "Letras Erradas: c, d, e\n"
     ]
    },
    {
     "name": "stdin",
     "output_type": "stream",
     "text": [
      "\n",
      "Digite uma letra:  f\n"
     ]
    },
    {
     "name": "stdout",
     "output_type": "stream",
     "text": [
      "Ops! Essa letra não está na palavra.\n",
      "\n",
      "           ------\n",
      "           |    |\n",
      "           |    O\n",
      "           |   /|\\\n",
      "           |\n",
      "           |\n",
      "        --------\n",
      "        \n",
      "Palavra:  a _ _ _ _\n",
      "\n",
      "Chances Restantes: 2\n",
      "Letras Erradas: c, d, e, f\n"
     ]
    },
    {
     "name": "stdin",
     "output_type": "stream",
     "text": [
      "\n",
      "Digite uma letra:  g\n"
     ]
    },
    {
     "name": "stdout",
     "output_type": "stream",
     "text": [
      "Ops! Essa letra não está na palavra.\n",
      "\n",
      "           ------\n",
      "           |    |\n",
      "           |    O\n",
      "           |   /|\\\n",
      "           |   /\n",
      "           |\n",
      "        --------\n",
      "        \n",
      "Palavra:  a _ _ _ _\n",
      "\n",
      "Chances Restantes: 1\n",
      "Letras Erradas: c, d, e, f, g\n"
     ]
    },
    {
     "name": "stdin",
     "output_type": "stream",
     "text": [
      "\n",
      "Digite uma letra:  u\n"
     ]
    },
    {
     "name": "stdout",
     "output_type": "stream",
     "text": [
      "Ops! Essa letra não está na palavra.\n",
      "\n",
      "Você perdeu, a palavra era: atomo\n"
     ]
    }
   ],
   "source": [
    "import random\n",
    "from os import system, name\n",
    "\n",
    "# Função para limpar a tela a cada execução\n",
    "def limpa_tela():\n",
    "    # Windows\n",
    "    if name == 'nt':\n",
    "        _ = system('cls')\n",
    "    # Mac ou Linux\n",
    "    else:\n",
    "        _ = system('clear')\n",
    "\n",
    "def desenha_forca(erros):\n",
    "    forca = [\n",
    "        \"\"\"\n",
    "           ------\n",
    "           |    |\n",
    "           |\n",
    "           |\n",
    "           |\n",
    "           |\n",
    "        --------\n",
    "        \"\"\",\n",
    "        \"\"\"\n",
    "           ------\n",
    "           |    |\n",
    "           |    O\n",
    "           |\n",
    "           |\n",
    "           |\n",
    "        --------\n",
    "        \"\"\",\n",
    "        \"\"\"\n",
    "           ------\n",
    "           |    |\n",
    "           |    O\n",
    "           |    |\n",
    "           |\n",
    "           |\n",
    "        --------\n",
    "        \"\"\",\n",
    "        \"\"\"\n",
    "           ------\n",
    "           |    |\n",
    "           |    O\n",
    "           |   /|\n",
    "           |\n",
    "           |\n",
    "        --------\n",
    "        \"\"\",\n",
    "        \"\"\"\n",
    "           ------\n",
    "           |    |\n",
    "           |    O\n",
    "           |   /|\\\\\n",
    "           |\n",
    "           |\n",
    "        --------\n",
    "        \"\"\",\n",
    "        \"\"\"\n",
    "           ------\n",
    "           |    |\n",
    "           |    O\n",
    "           |   /|\\\\\n",
    "           |   /\n",
    "           |\n",
    "        --------\n",
    "        \"\"\",\n",
    "        \"\"\"\n",
    "           ------\n",
    "           |    |\n",
    "           |    O\n",
    "           |   /|\\\\\n",
    "           |   / \\\\\n",
    "           |\n",
    "        --------\n",
    "        \"\"\"\n",
    "]\n",
    "    return forca[erros]\n",
    "\n",
    "\n",
    "# Função do Game \n",
    "def handman():\n",
    "    limpa_tela()\n",
    "    print(\"\\nBem vindo(a) ao jogo da forca!\")\n",
    "    print(\"Adivinhe a palavra abaixo:\\n\")\n",
    "\n",
    "    # Lista de palavras possíveis  \n",
    "    palavras = [\n",
    "        \"atomo\", \"foton\", \"osmo\", \"celula\", \"vetor\", \"massa\", \"mol\", \"base\", \n",
    "        \"ondas\", \"enzima\", \"forca\", \"torque\", \"fusao\", \"reacao\", \"neutron\"\n",
    "    ]\n",
    "\n",
    "\n",
    "    # Escolhendo uma palavra aleatória da lista\n",
    "    palavra_escolhida = random.choice(palavras)\n",
    "\n",
    "    # Criando uma lista para armazenar as letras adivinhadas e letras erradas  \n",
    "    letras_adivinhadas = [letra for letra in palavra_escolhida]\n",
    "    letras_tentativas = []\n",
    "    letras_erradas = []\n",
    "\n",
    "    # Criar o tabuleiro \n",
    "    tabuleiro = [\"_\" for _ in palavra_escolhida]\n",
    "\n",
    "    # Número de chances e erros\n",
    "    chances = 6\n",
    "    erros = 0\n",
    "\n",
    "    while chances > 0:\n",
    "        print(desenha_forca(erros))\n",
    "        print(\"Palavra: \", \" \".join(tabuleiro))\n",
    "        print(f\"\\nChances Restantes: {chances}\")\n",
    "        print(f\"Letras Erradas: {', '.join(letras_erradas)}\")\n",
    "\n",
    "        # Tentativa\n",
    "        tentativa = input(\"\\nDigite uma letra: \").lower()\n",
    "        if tentativa in letras_tentativas:\n",
    "            print(\"Você já tentou essa letra. Escolha outra!\")\n",
    "            continue\n",
    "\n",
    "        letras_tentativas.append(tentativa)\n",
    "            \n",
    "        if tentativa in letras_adivinhadas:\n",
    "            print(\"Você acertou a letra!\")\n",
    "            \n",
    "            for i in range(len(letras_adivinhadas)):\n",
    "                if letras_adivinhadas[i] == tentativa:\n",
    "                    tabuleiro[i] = tentativa\n",
    "                    \n",
    "            # se não há mais '_' então o usuário ganhou!\n",
    "            if \"_\" not in tabuleiro:\n",
    "                print(\"Você venceu, a palavra era: \", palavra_escolhida)\n",
    "                break\n",
    "        else:\n",
    "            print(\"Ops! Essa letra não está na palavra.\")\n",
    "            letras_erradas.append(tentativa)\n",
    "            chances -= 1\n",
    "            erros += 1\n",
    "\n",
    "    if \"_\" in tabuleiro:\n",
    "        print(\"\\nVocê perdeu, a palavra era:\", palavra_escolhida)\n",
    "\n",
    "# bloco main\n",
    "if __name__ == \"__main__\":\n",
    "    handman()\n",
    "        "
   ]
  },
  {
   "cell_type": "code",
   "execution_count": 19,
   "id": "f3736b09-c274-4109-81f0-3cebc9da6ab1",
   "metadata": {},
   "outputs": [
    {
     "data": {
      "text/plain": [
       "[0, 1, 2, 3, 4, 5, 6, 7, 8, 9]"
      ]
     },
     "execution_count": 19,
     "metadata": {},
     "output_type": "execute_result"
    }
   ],
   "source": [
    "[x for x in range(10)]"
   ]
  },
  {
   "cell_type": "code",
   "execution_count": null,
   "id": "a9b502fd-a84c-4775-b80d-7e682568951b",
   "metadata": {},
   "outputs": [],
   "source": []
  }
 ],
 "metadata": {
  "kernelspec": {
   "display_name": "Python 3 (ipykernel)",
   "language": "python",
   "name": "python3"
  },
  "language_info": {
   "codemirror_mode": {
    "name": "ipython",
    "version": 3
   },
   "file_extension": ".py",
   "mimetype": "text/x-python",
   "name": "python",
   "nbconvert_exporter": "python",
   "pygments_lexer": "ipython3",
   "version": "3.12.4"
  }
 },
 "nbformat": 4,
 "nbformat_minor": 5
}
